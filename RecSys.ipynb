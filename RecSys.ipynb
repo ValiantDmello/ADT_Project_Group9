{
  "nbformat": 4,
  "nbformat_minor": 0,
  "metadata": {
    "colab": {
      "provenance": []
    },
    "kernelspec": {
      "name": "python3",
      "display_name": "Python 3"
    },
    "language_info": {
      "name": "python"
    }
  },
  "cells": [
    {
      "cell_type": "code",
      "execution_count": null,
      "metadata": {
        "colab": {
          "base_uri": "https://localhost:8080/"
        },
        "id": "AFShgtOV6qh_",
        "outputId": "cea0bd04-6a27-4355-ab4d-ea3ed3409112"
      },
      "outputs": [
        {
          "output_type": "stream",
          "name": "stdout",
          "text": [
            "Looking in indexes: https://pypi.org/simple, https://us-python.pkg.dev/colab-wheels/public/simple/\n",
            "Collecting pyspark\n",
            "  Downloading pyspark-3.3.2.tar.gz (281.4 MB)\n",
            "\u001b[2K     \u001b[90m━━━━━━━━━━━━━━━━━━━━━━━━━━━━━━━━━━━━━━━\u001b[0m \u001b[32m281.4/281.4 MB\u001b[0m \u001b[31m5.5 MB/s\u001b[0m eta \u001b[36m0:00:00\u001b[0m\n",
            "\u001b[?25h  Preparing metadata (setup.py) ... \u001b[?25l\u001b[?25hdone\n",
            "Collecting py4j==0.10.9.5\n",
            "  Downloading py4j-0.10.9.5-py2.py3-none-any.whl (199 kB)\n",
            "\u001b[2K     \u001b[90m━━━━━━━━━━━━━━━━━━━━━━━━━━━━━━━━━━━━━━\u001b[0m \u001b[32m199.7/199.7 KB\u001b[0m \u001b[31m11.4 MB/s\u001b[0m eta \u001b[36m0:00:00\u001b[0m\n",
            "\u001b[?25hBuilding wheels for collected packages: pyspark\n",
            "  Building wheel for pyspark (setup.py) ... \u001b[?25l\u001b[?25hdone\n",
            "  Created wheel for pyspark: filename=pyspark-3.3.2-py2.py3-none-any.whl size=281824025 sha256=d676a79da3dc9bb14d6194a5e38f6362b6a0d3a59513c73c466432064aadb19f\n",
            "  Stored in directory: /root/.cache/pip/wheels/b1/59/a0/a1a0624b5e865fd389919c1a10f53aec9b12195d6747710baf\n",
            "Successfully built pyspark\n",
            "Installing collected packages: py4j, pyspark\n",
            "Successfully installed py4j-0.10.9.5 pyspark-3.3.2\n"
          ]
        }
      ],
      "source": [
        "!pip install pyspark"
      ]
    },
    {
      "cell_type": "code",
      "source": [
        "#Libraries\n",
        "from pyspark.sql import SparkSession\n",
        "from pyspark.sql.types import StructType, StructField, IntegerType, StringType\n",
        "from pyspark.ml.evaluation import RegressionEvaluator\n",
        "from pyspark.ml.recommendation import ALS"
      ],
      "metadata": {
        "id": "J-fzzt_-646u"
      },
      "execution_count": null,
      "outputs": []
    },
    {
      "cell_type": "code",
      "source": [
        "spark = SparkSession.builder.appName(\"RecommendationSystem\").getOrCreate()"
      ],
      "metadata": {
        "id": "T2IH2XdS7enr"
      },
      "execution_count": null,
      "outputs": []
    },
    {
      "cell_type": "code",
      "source": [
        "myschema = StructType([StructField(\"userID\", IntegerType(), True),\n",
        "                       StructField(\"movieID\", IntegerType(), True),\n",
        "                       StructField(\"rating\",IntegerType(), True),\n",
        "                       StructField(\"unixTimestamp\",IntegerType(), True),\n",
        "                        ])\n",
        "\n",
        "df = spark.read.format(\"csv\").schema(myschema).option(\"delimiter\", \"\\t\").load(\"u.data\")"
      ],
      "metadata": {
        "id": "dQvhEyVM8mtj"
      },
      "execution_count": null,
      "outputs": []
    },
    {
      "cell_type": "code",
      "source": [
        "df.describe().show()"
      ],
      "metadata": {
        "colab": {
          "base_uri": "https://localhost:8080/"
        },
        "id": "2ZY3EVFX-qN9",
        "outputId": "7e1fa9ec-bd44-4415-bad4-9d68ef1cdfd0"
      },
      "execution_count": null,
      "outputs": [
        {
          "output_type": "stream",
          "name": "stdout",
          "text": [
            "+-------+------------------+------------------+------------------+-----------------+\n",
            "|summary|            userID|           movieID|            rating|    unixTimestamp|\n",
            "+-------+------------------+------------------+------------------+-----------------+\n",
            "|  count|            100000|            100000|            100000|           100000|\n",
            "|   mean|         462.48475|         425.53013|           3.52986|8.8352885148862E8|\n",
            "| stddev|266.61442012750905|330.79835632558473|1.1256735991443214|5343856.189502848|\n",
            "|    min|                 1|                 1|                 1|        874724710|\n",
            "|    max|               943|              1682|                 5|        893286638|\n",
            "+-------+------------------+------------------+------------------+-----------------+\n",
            "\n"
          ]
        }
      ]
    },
    {
      "cell_type": "code",
      "source": [
        "df = df.drop(\"unixTimestamp\")"
      ],
      "metadata": {
        "id": "D_-6svkpBXBX"
      },
      "execution_count": null,
      "outputs": []
    },
    {
      "cell_type": "code",
      "source": [
        "df.describe().show()"
      ],
      "metadata": {
        "colab": {
          "base_uri": "https://localhost:8080/"
        },
        "id": "lv4BUfLZBcQ0",
        "outputId": "9469f0a6-bcc0-41b8-bd90-2ec40e1a2522"
      },
      "execution_count": null,
      "outputs": [
        {
          "output_type": "stream",
          "name": "stdout",
          "text": [
            "+-------+------------------+------------------+------------------+\n",
            "|summary|            userID|           movieID|            rating|\n",
            "+-------+------------------+------------------+------------------+\n",
            "|  count|            100000|            100000|            100000|\n",
            "|   mean|         462.48475|         425.53013|           3.52986|\n",
            "| stddev|266.61442012750905|330.79835632558473|1.1256735991443214|\n",
            "|    min|                 1|                 1|                 1|\n",
            "|    max|               943|              1682|                 5|\n",
            "+-------+------------------+------------------+------------------+\n",
            "\n"
          ]
        }
      ]
    },
    {
      "cell_type": "code",
      "source": [
        "(train, test) = df.randomSplit([0.8, 0.2], seed=27)"
      ],
      "metadata": {
        "id": "GdRv8rba-_JA"
      },
      "execution_count": null,
      "outputs": []
    },
    {
      "cell_type": "code",
      "source": [
        "als = ALS(maxIter=10, regParam=0.01, userCol=\"userID\", itemCol=\"movieID\", ratingCol=\"rating\")"
      ],
      "metadata": {
        "id": "-hDbFhUXA2x_"
      },
      "execution_count": null,
      "outputs": []
    },
    {
      "cell_type": "code",
      "source": [
        "model_col = als.fit(train)\n",
        "model_col.setColdStartStrategy(\"drop\")"
      ],
      "metadata": {
        "colab": {
          "base_uri": "https://localhost:8080/"
        },
        "id": "TJYGytyQCnh8",
        "outputId": "18eb23ca-c635-4b21-bc84-46871609eb34"
      },
      "execution_count": null,
      "outputs": [
        {
          "output_type": "execute_result",
          "data": {
            "text/plain": [
              "ALSModel: uid=ALS_2ada4bb9cd06, rank=10"
            ]
          },
          "metadata": {},
          "execution_count": 38
        }
      ]
    },
    {
      "cell_type": "code",
      "source": [
        "pred = model_col.transform(test)"
      ],
      "metadata": {
        "id": "fryeAoqQC6vf"
      },
      "execution_count": null,
      "outputs": []
    },
    {
      "cell_type": "code",
      "source": [
        "pred.describe().show()"
      ],
      "metadata": {
        "colab": {
          "base_uri": "https://localhost:8080/"
        },
        "id": "9xorkOPnDEv3",
        "outputId": "d5a8c6e8-3d2d-4249-cf0b-31e43cbb7bf7"
      },
      "execution_count": null,
      "outputs": [
        {
          "output_type": "stream",
          "name": "stdout",
          "text": [
            "+-------+------------------+------------------+------------------+------------------+\n",
            "|summary|            userID|           movieID|            rating|        prediction|\n",
            "+-------+------------------+------------------+------------------+------------------+\n",
            "|  count|             20097|             20097|             20097|             20097|\n",
            "|   mean|462.41633079564116|424.83594566353185|3.5384385729213315| 3.503691946704773|\n",
            "| stddev|268.01904127668723| 329.2804043654686|1.1283688986929494|0.9762263565978738|\n",
            "|    min|                 1|                 1|                 1|        -4.3135796|\n",
            "|    max|               943|              1664|                 5|         10.111652|\n",
            "+-------+------------------+------------------+------------------+------------------+\n",
            "\n"
          ]
        }
      ]
    },
    {
      "cell_type": "code",
      "source": [
        "pred.show()"
      ],
      "metadata": {
        "colab": {
          "base_uri": "https://localhost:8080/"
        },
        "id": "wUyBjY2IOnzd",
        "outputId": "d437dcbd-80b2-4d1a-dc33-bb2ee7b91eb7"
      },
      "execution_count": null,
      "outputs": [
        {
          "output_type": "stream",
          "name": "stdout",
          "text": [
            "+------+-------+------+----------+\n",
            "|userID|movieID|rating|prediction|\n",
            "+------+-------+------+----------+\n",
            "|    85|    496|     4| 4.1257744|\n",
            "|   580|    471|     3|  3.278465|\n",
            "|   458|    496|     3| 2.5580938|\n",
            "|   613|    471|     3| 3.9795089|\n",
            "|   593|    471|     3| 3.9884386|\n",
            "|   847|    496|     4|  4.421972|\n",
            "|   406|    463|     5|   3.29274|\n",
            "|   731|    496|     5| 5.1285243|\n",
            "|    26|    148|     3| 2.4580867|\n",
            "|   577|    471|     3|  3.992433|\n",
            "|    44|    148|     4| 2.9922082|\n",
            "|   271|    496|     5|  4.398302|\n",
            "|   606|    833|     5| 3.0456917|\n",
            "|   908|    496|     5|  4.224905|\n",
            "|   916|    148|     2| 2.4652426|\n",
            "|   103|    471|     4| 3.8080456|\n",
            "|   236|    148|     4| 2.8052418|\n",
            "|   236|    496|     3| 4.9839306|\n",
            "|   548|    471|     5| 3.4697282|\n",
            "|   222|    471|     3| 3.5952637|\n",
            "+------+-------+------+----------+\n",
            "only showing top 20 rows\n",
            "\n"
          ]
        }
      ]
    },
    {
      "cell_type": "code",
      "source": [
        "eval = RegressionEvaluator(metricName=\"rmse\", labelCol=\"rating\", predictionCol=\"prediction\")\n",
        "rmse = eval.evaluate(pred)\n",
        "print(\"RMSE: \", rmse)"
      ],
      "metadata": {
        "id": "r4UUqTaaDJPx",
        "colab": {
          "base_uri": "https://localhost:8080/"
        },
        "outputId": "e972d47c-96fc-4f6e-f78b-bd7bff5adf44"
      },
      "execution_count": null,
      "outputs": [
        {
          "output_type": "stream",
          "name": "stdout",
          "text": [
            "RMSE:  1.0835917250920846\n"
          ]
        }
      ]
    },
    {
      "cell_type": "code",
      "source": [
        "user_recs = model_col.recommendForAllUsers(5)"
      ],
      "metadata": {
        "id": "oAf3dSbqFEN7"
      },
      "execution_count": null,
      "outputs": []
    },
    {
      "cell_type": "code",
      "source": [
        "user_recs.select(user_recs.recommendations).where(user_recs.userID==10).cache().collect()[0][0]"
      ],
      "metadata": {
        "colab": {
          "base_uri": "https://localhost:8080/"
        },
        "id": "ZACVoqD8Piap",
        "outputId": "f127da36-6767-4a61-850c-bd9a45c15aba"
      },
      "execution_count": null,
      "outputs": [
        {
          "output_type": "execute_result",
          "data": {
            "text/plain": [
              "[Row(movieID=1643, rating=5.746307373046875),\n",
              " Row(movieID=1664, rating=5.214720249176025),\n",
              " Row(movieID=701, rating=5.124952793121338),\n",
              " Row(movieID=318, rating=5.095107555389404),\n",
              " Row(movieID=64, rating=5.042793273925781)]"
            ]
          },
          "metadata": {},
          "execution_count": 52
        }
      ]
    },
    {
      "cell_type": "code",
      "source": [],
      "metadata": {
        "id": "N-rZB0fWVDIg"
      },
      "execution_count": null,
      "outputs": []
    }
  ]
}